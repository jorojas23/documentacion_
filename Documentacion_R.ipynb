{
 "cells": [
  {
   "cell_type": "markdown",
   "id": "c6596176-4d57-44fe-afee-79d338ee447d",
   "metadata": {
    "jp-MarkdownHeadingCollapsed": true
   },
   "source": [
    "# Documentación de R"
   ]
  },
  {
   "cell_type": "markdown",
   "id": "b3060c36-390b-40d0-9428-3124fa32467a",
   "metadata": {},
   "source": [
    "## ¿Qué es?"
   ]
  },
  {
   "cell_type": "markdown",
   "id": "60c328d9-0d85-49f5-9edb-40dffd645253",
   "metadata": {},
   "source": [
    "R es un lenguaje de programación que nos ayuda a trabajar con números, datos y gráficos. Es como una calculadora súper poderosa que puede hacer gráficos bonitos y resolver problemas complicados."
   ]
  },
  {
   "cell_type": "markdown",
   "id": "2340603d-36d5-4ff4-ac57-082d0ecee046",
   "metadata": {},
   "source": [
    "## ¿Por qué aprender R?"
   ]
  },
  {
   "cell_type": "markdown",
   "id": "f8b17376-b1b3-43eb-b6fd-9795041aad3e",
   "metadata": {},
   "source": [
    "Con R puedes hacer gráficos increíbles, resolver problemas de matemáticas y hasta predecir cosas. Por ejemplo, puedes saber cuántos helados se venden en verano o cómo crecen las plantas."
   ]
  },
  {
   "cell_type": "markdown",
   "id": "1297d4b5-916d-43a9-b8e4-aa525f6e730b",
   "metadata": {},
   "source": [
    "## Primeros pasos en R"
   ]
  },
  {
   "cell_type": "markdown",
   "id": "72b7bfc0-f495-49d4-a715-d9b6afe79e46",
   "metadata": {},
   "source": [
    "Vamos a aprender a escribir nuestro primer código."
   ]
  },
  {
   "cell_type": "code",
   "execution_count": 6,
   "id": "235f2a85-1825-4c31-ba66-c03f71d505cf",
   "metadata": {},
   "outputs": [
    {
     "name": "stdout",
     "output_type": "stream",
     "text": [
      "[1] \"Hola, mundo\"\n"
     ]
    }
   ],
   "source": [
    "print(\"Hola, mundo\")"
   ]
  },
  {
   "cell_type": "markdown",
   "id": "3b7f0b8e-f02c-4fb9-a586-854a2ddba84e",
   "metadata": {},
   "source": [
    "## Tipos de datos"
   ]
  },
  {
   "cell_type": "markdown",
   "id": "76010abd-a223-4f65-80e1-eba633f4b034",
   "metadata": {},
   "source": [
    "+ Numéricos: 5, 3.14.\n",
    "\n",
    "+ Caracteres: \"Hola\", \"R\".\n",
    "\n",
    "+ Lógicos: TRUE, FALSE.\n",
    "\n",
    "+ Factores: factor(c(\"rojo\", \"azul\", \"verde\"))."
   ]
  },
  {
   "cell_type": "code",
   "execution_count": 7,
   "id": "ced0ca8b-4f8f-48ae-a9d2-215f161d8752",
   "metadata": {},
   "outputs": [
    {
     "name": "stdout",
     "output_type": "stream",
     "text": [
      "[1] 5\n",
      "[1] \"Juan\"\n"
     ]
    }
   ],
   "source": [
    "x <- 5\n",
    "nombre <- \"Juan\"\n",
    "print(x)\n",
    "print(nombre)"
   ]
  },
  {
   "cell_type": "markdown",
   "id": "9fe5b47b-dbfe-4e7d-9b5b-3f0c31cf875e",
   "metadata": {},
   "source": [
    "## Operadores aritméticos y lógicos:"
   ]
  },
  {
   "cell_type": "markdown",
   "id": "73b5e1f4-035b-4f3e-8f34-80a3d7d6d067",
   "metadata": {},
   "source": [
    "+ **Aritméticos:** +, -, *, /.\n",
    "\n",
    "+ **Lógicos:** >, <, ==, &, |."
   ]
  },
  {
   "cell_type": "code",
   "execution_count": 8,
   "id": "8becc11b-efbb-4212-9fb4-1d82f08ac9dd",
   "metadata": {},
   "outputs": [
    {
     "data": {
      "text/html": [
       "8"
      ],
      "text/latex": [
       "8"
      ],
      "text/markdown": [
       "8"
      ],
      "text/plain": [
       "[1] 8"
      ]
     },
     "metadata": {},
     "output_type": "display_data"
    },
    {
     "data": {
      "text/html": [
       "6"
      ],
      "text/latex": [
       "6"
      ],
      "text/markdown": [
       "6"
      ],
      "text/plain": [
       "[1] 6"
      ]
     },
     "metadata": {},
     "output_type": "display_data"
    },
    {
     "data": {
      "text/html": [
       "12"
      ],
      "text/latex": [
       "12"
      ],
      "text/markdown": [
       "12"
      ],
      "text/plain": [
       "[1] 12"
      ]
     },
     "metadata": {},
     "output_type": "display_data"
    },
    {
     "data": {
      "text/html": [
       "4"
      ],
      "text/latex": [
       "4"
      ],
      "text/markdown": [
       "4"
      ],
      "text/plain": [
       "[1] 4"
      ]
     },
     "metadata": {},
     "output_type": "display_data"
    },
    {
     "data": {
      "text/html": [
       "8"
      ],
      "text/latex": [
       "8"
      ],
      "text/markdown": [
       "8"
      ],
      "text/plain": [
       "[1] 8"
      ]
     },
     "metadata": {},
     "output_type": "display_data"
    },
    {
     "data": {
      "text/html": [
       "1"
      ],
      "text/latex": [
       "1"
      ],
      "text/markdown": [
       "1"
      ],
      "text/plain": [
       "[1] 1"
      ]
     },
     "metadata": {},
     "output_type": "display_data"
    }
   ],
   "source": [
    "# Suma\n",
    "5 + 3  # Resultado: 8\n",
    "\n",
    "# Resta\n",
    "10 - 4  # Resultado: 6\n",
    "\n",
    "# Multiplicación\n",
    "2 * 6  # Resultado: 12\n",
    "\n",
    "# División\n",
    "8 / 2  # Resultado: 4\n",
    "\n",
    "# Potencia\n",
    "2^3  # Resultado: 8\n",
    "\n",
    "# Módulo (resto de la división)\n",
    "7 %% 3  # Resultado: 1"
   ]
  },
  {
   "cell_type": "code",
   "execution_count": 9,
   "id": "59e7fb73-1872-4f48-ad78-5b91470d2aa5",
   "metadata": {},
   "outputs": [
    {
     "data": {
      "text/html": [
       "TRUE"
      ],
      "text/latex": [
       "TRUE"
      ],
      "text/markdown": [
       "TRUE"
      ],
      "text/plain": [
       "[1] TRUE"
      ]
     },
     "metadata": {},
     "output_type": "display_data"
    },
    {
     "data": {
      "text/html": [
       "FALSE"
      ],
      "text/latex": [
       "FALSE"
      ],
      "text/markdown": [
       "FALSE"
      ],
      "text/plain": [
       "[1] FALSE"
      ]
     },
     "metadata": {},
     "output_type": "display_data"
    },
    {
     "data": {
      "text/html": [
       "TRUE"
      ],
      "text/latex": [
       "TRUE"
      ],
      "text/markdown": [
       "TRUE"
      ],
      "text/plain": [
       "[1] TRUE"
      ]
     },
     "metadata": {},
     "output_type": "display_data"
    },
    {
     "data": {
      "text/html": [
       "FALSE"
      ],
      "text/latex": [
       "FALSE"
      ],
      "text/markdown": [
       "FALSE"
      ],
      "text/plain": [
       "[1] FALSE"
      ]
     },
     "metadata": {},
     "output_type": "display_data"
    },
    {
     "data": {
      "text/html": [
       "TRUE"
      ],
      "text/latex": [
       "TRUE"
      ],
      "text/markdown": [
       "TRUE"
      ],
      "text/plain": [
       "[1] TRUE"
      ]
     },
     "metadata": {},
     "output_type": "display_data"
    },
    {
     "data": {
      "text/html": [
       "FALSE"
      ],
      "text/latex": [
       "FALSE"
      ],
      "text/markdown": [
       "FALSE"
      ],
      "text/plain": [
       "[1] FALSE"
      ]
     },
     "metadata": {},
     "output_type": "display_data"
    },
    {
     "data": {
      "text/html": [
       "TRUE"
      ],
      "text/latex": [
       "TRUE"
      ],
      "text/markdown": [
       "TRUE"
      ],
      "text/plain": [
       "[1] TRUE"
      ]
     },
     "metadata": {},
     "output_type": "display_data"
    },
    {
     "data": {
      "text/html": [
       "FALSE"
      ],
      "text/latex": [
       "FALSE"
      ],
      "text/markdown": [
       "FALSE"
      ],
      "text/plain": [
       "[1] FALSE"
      ]
     },
     "metadata": {},
     "output_type": "display_data"
    },
    {
     "data": {
      "text/html": [
       "TRUE"
      ],
      "text/latex": [
       "TRUE"
      ],
      "text/markdown": [
       "TRUE"
      ],
      "text/plain": [
       "[1] TRUE"
      ]
     },
     "metadata": {},
     "output_type": "display_data"
    },
    {
     "data": {
      "text/html": [
       "FALSE"
      ],
      "text/latex": [
       "FALSE"
      ],
      "text/markdown": [
       "FALSE"
      ],
      "text/plain": [
       "[1] FALSE"
      ]
     },
     "metadata": {},
     "output_type": "display_data"
    },
    {
     "data": {
      "text/html": [
       "TRUE"
      ],
      "text/latex": [
       "TRUE"
      ],
      "text/markdown": [
       "TRUE"
      ],
      "text/plain": [
       "[1] TRUE"
      ]
     },
     "metadata": {},
     "output_type": "display_data"
    },
    {
     "data": {
      "text/html": [
       "FALSE"
      ],
      "text/latex": [
       "FALSE"
      ],
      "text/markdown": [
       "FALSE"
      ],
      "text/plain": [
       "[1] FALSE"
      ]
     },
     "metadata": {},
     "output_type": "display_data"
    }
   ],
   "source": [
    "# Igual a\n",
    "5 == 5  # Resultado: TRUE\n",
    "5 == 3  # Resultado: FALSE\n",
    "\n",
    "# No igual a\n",
    "5 != 3  # Resultado: TRUE\n",
    "5 != 5  # Resultado: FALSE\n",
    "\n",
    "# Mayor que\n",
    "10 > 5  # Resultado: TRUE\n",
    "5 > 10  # Resultado: FALSE\n",
    "\n",
    "# Menor que\n",
    "5 < 10  # Resultado: TRUE\n",
    "10 < 5  # Resultado: FALSE\n",
    "\n",
    "# Mayor o igual que\n",
    "10 >= 10  # Resultado: TRUE\n",
    "10 >= 15  # Resultado: FALSE\n",
    "\n",
    "# Menor o igual que\n",
    "5 <= 5  # Resultado: TRUE\n",
    "5 <= 3  # Resultado: FALSE"
   ]
  },
  {
   "cell_type": "markdown",
   "id": "b6990bab-105c-41dc-a1e8-6ad3da5369cf",
   "metadata": {},
   "source": [
    "## Estructuras de datos en R"
   ]
  },
  {
   "cell_type": "markdown",
   "id": "35bc9204-56a5-40b3-8cb4-6aa90b82c4a5",
   "metadata": {},
   "source": [
    "### Vectores"
   ]
  },
  {
   "cell_type": "markdown",
   "id": "68b2945e-a298-481a-98b2-7ab4aaaf1834",
   "metadata": {},
   "source": [
    "+ #### creación"
   ]
  },
  {
   "cell_type": "code",
   "execution_count": 10,
   "id": "d9ffbdd9-edf9-4a7c-af3e-33e2332868db",
   "metadata": {},
   "outputs": [],
   "source": [
    "numeros <- c(1, 2, 3, 4, 5)\n",
    "colores <- c(\"rojo\", \"azul\", \"verde\")"
   ]
  },
  {
   "cell_type": "markdown",
   "id": "3db58ac8-9e54-4737-a351-41ee9f85435a",
   "metadata": {},
   "source": [
    "+ #### Indexación"
   ]
  },
  {
   "cell_type": "code",
   "execution_count": 11,
   "id": "3f5c8277-9476-4bd1-bb55-b7c5ea42d2b5",
   "metadata": {},
   "outputs": [
    {
     "data": {
      "text/html": [
       "1"
      ],
      "text/latex": [
       "1"
      ],
      "text/markdown": [
       "1"
      ],
      "text/plain": [
       "[1] 1"
      ]
     },
     "metadata": {},
     "output_type": "display_data"
    },
    {
     "data": {
      "text/html": [
       "'azul'"
      ],
      "text/latex": [
       "'azul'"
      ],
      "text/markdown": [
       "'azul'"
      ],
      "text/plain": [
       "[1] \"azul\""
      ]
     },
     "metadata": {},
     "output_type": "display_data"
    }
   ],
   "source": [
    "numeros[1]  # Primer elemento\n",
    "colores[2]  # Segundo elemento"
   ]
  },
  {
   "cell_type": "markdown",
   "id": "16677224-f72f-4431-bf29-da3106de762f",
   "metadata": {},
   "source": [
    "### Matrices"
   ]
  },
  {
   "cell_type": "markdown",
   "id": "bec2dcda-cae7-4dc7-9e44-dfa42cd36cc0",
   "metadata": {},
   "source": [
    "+ #### Creación"
   ]
  },
  {
   "cell_type": "code",
   "execution_count": 12,
   "id": "f0dffdf6-b2bf-4c2d-af63-c64da0142a79",
   "metadata": {},
   "outputs": [],
   "source": [
    "matriz <- matrix(c(1, 2, 3, 4), nrow = 2, ncol = 2)"
   ]
  },
  {
   "cell_type": "markdown",
   "id": "276081c5-ec2e-48e9-8a11-de95fcfaba52",
   "metadata": {},
   "source": [
    "+ #### Operaciones"
   ]
  },
  {
   "cell_type": "code",
   "execution_count": 13,
   "id": "c579aaad-6b7f-4a93-b1a7-84db43e54e75",
   "metadata": {},
   "outputs": [
    {
     "data": {
      "text/html": [
       "<table class=\"dataframe\">\n",
       "<caption>A matrix: 2 × 2 of type dbl</caption>\n",
       "<tbody>\n",
       "\t<tr><td>2</td><td>6</td></tr>\n",
       "\t<tr><td>4</td><td>8</td></tr>\n",
       "</tbody>\n",
       "</table>\n"
      ],
      "text/latex": [
       "A matrix: 2 × 2 of type dbl\n",
       "\\begin{tabular}{ll}\n",
       "\t 2 & 6\\\\\n",
       "\t 4 & 8\\\\\n",
       "\\end{tabular}\n"
      ],
      "text/markdown": [
       "\n",
       "A matrix: 2 × 2 of type dbl\n",
       "\n",
       "| 2 | 6 |\n",
       "| 4 | 8 |\n",
       "\n"
      ],
      "text/plain": [
       "     [,1] [,2]\n",
       "[1,] 2    6   \n",
       "[2,] 4    8   "
      ]
     },
     "metadata": {},
     "output_type": "display_data"
    }
   ],
   "source": [
    "matriz * 2  # Multiplicar por 2"
   ]
  },
  {
   "cell_type": "markdown",
   "id": "60d75a41-06bc-4ded-a2ce-f4139cab50b0",
   "metadata": {},
   "source": [
    "### Data frames"
   ]
  },
  {
   "cell_type": "markdown",
   "id": "34fd8276-ab9b-43d7-9ac1-3149e038a3c8",
   "metadata": {},
   "source": [
    "+ #### Creación"
   ]
  },
  {
   "cell_type": "code",
   "execution_count": 59,
   "id": "48317251-e4a8-4d08-83d2-888a4e74e8ec",
   "metadata": {},
   "outputs": [],
   "source": [
    "datos <- data.frame(nombre = c(\"Ana\", \"Juan\"), edad = c(25, 30), altura =  c(160, 170))"
   ]
  },
  {
   "cell_type": "markdown",
   "id": "0175c99e-ea23-4a40-849b-7b4c6a104caa",
   "metadata": {},
   "source": [
    "+ #### Importación y exportación"
   ]
  },
  {
   "cell_type": "code",
   "execution_count": 60,
   "id": "55576615-a62a-4eac-8199-8b46f58e06fc",
   "metadata": {},
   "outputs": [],
   "source": [
    "write.csv(datos, \"datos.csv\")\n",
    "datos <- read.csv(\"datos.csv\")"
   ]
  },
  {
   "cell_type": "markdown",
   "id": "69ecee83-b86e-40d4-9148-412547c38879",
   "metadata": {},
   "source": [
    "### Listas"
   ]
  },
  {
   "cell_type": "markdown",
   "id": "0aff75d6-a2d5-43ac-a536-201c5b4a3bde",
   "metadata": {},
   "source": [
    "+ #### Creación"
   ]
  },
  {
   "cell_type": "code",
   "execution_count": 61,
   "id": "bbc93304-4712-49f6-9c9d-53d9263266c7",
   "metadata": {},
   "outputs": [],
   "source": [
    "lista <- list(nombre = \"Ana\", edad = 25, colores = c(\"rojo\", \"azul\"))"
   ]
  },
  {
   "cell_type": "markdown",
   "id": "794679bb-ddca-4d38-b848-3a0df606701a",
   "metadata": {},
   "source": [
    "+ #### Acceso a elementos"
   ]
  },
  {
   "cell_type": "code",
   "execution_count": 62,
   "id": "2c11ebf7-2997-482e-b1d9-f9e096408cda",
   "metadata": {},
   "outputs": [
    {
     "data": {
      "text/html": [
       "'Ana'"
      ],
      "text/latex": [
       "'Ana'"
      ],
      "text/markdown": [
       "'Ana'"
      ],
      "text/plain": [
       "[1] \"Ana\""
      ]
     },
     "metadata": {},
     "output_type": "display_data"
    },
    {
     "data": {
      "text/html": [
       "25"
      ],
      "text/latex": [
       "25"
      ],
      "text/markdown": [
       "25"
      ],
      "text/plain": [
       "[1] 25"
      ]
     },
     "metadata": {},
     "output_type": "display_data"
    }
   ],
   "source": [
    "lista$nombre\n",
    "lista[[2]]"
   ]
  },
  {
   "cell_type": "markdown",
   "id": "bc8a3b3f-3a01-4412-ae0e-d6d271c33ed0",
   "metadata": {},
   "source": [
    "## Manipulación de datos"
   ]
  },
  {
   "cell_type": "markdown",
   "id": "1728dca1-d5f8-437a-8e98-79b5bf87e3e7",
   "metadata": {},
   "source": [
    "### dplyr"
   ]
  },
  {
   "cell_type": "markdown",
   "id": "e1872206-e356-483e-b40e-fadcaa743287",
   "metadata": {},
   "source": [
    "+ #### Filtrado"
   ]
  },
  {
   "cell_type": "code",
   "execution_count": 63,
   "id": "46f5e1df-c014-4c95-a401-5c47a4475436",
   "metadata": {},
   "outputs": [
    {
     "data": {
      "text/html": [
       "<table class=\"dataframe\">\n",
       "<caption>A data.frame: 1 × 4</caption>\n",
       "<thead>\n",
       "\t<tr><th scope=col>X</th><th scope=col>nombre</th><th scope=col>edad</th><th scope=col>altura</th></tr>\n",
       "\t<tr><th scope=col>&lt;int&gt;</th><th scope=col>&lt;chr&gt;</th><th scope=col>&lt;int&gt;</th><th scope=col>&lt;int&gt;</th></tr>\n",
       "</thead>\n",
       "<tbody>\n",
       "\t<tr><td>2</td><td>Juan</td><td>30</td><td>170</td></tr>\n",
       "</tbody>\n",
       "</table>\n"
      ],
      "text/latex": [
       "A data.frame: 1 × 4\n",
       "\\begin{tabular}{llll}\n",
       " X & nombre & edad & altura\\\\\n",
       " <int> & <chr> & <int> & <int>\\\\\n",
       "\\hline\n",
       "\t 2 & Juan & 30 & 170\\\\\n",
       "\\end{tabular}\n"
      ],
      "text/markdown": [
       "\n",
       "A data.frame: 1 × 4\n",
       "\n",
       "| X &lt;int&gt; | nombre &lt;chr&gt; | edad &lt;int&gt; | altura &lt;int&gt; |\n",
       "|---|---|---|---|\n",
       "| 2 | Juan | 30 | 170 |\n",
       "\n"
      ],
      "text/plain": [
       "  X nombre edad altura\n",
       "1 2 Juan   30   170   "
      ]
     },
     "metadata": {},
     "output_type": "display_data"
    }
   ],
   "source": [
    "filter(datos, edad > 25)"
   ]
  },
  {
   "cell_type": "markdown",
   "id": "020c01b0-38fa-4f70-a277-a49936241d34",
   "metadata": {},
   "source": [
    "+ #### Selección"
   ]
  },
  {
   "cell_type": "code",
   "execution_count": 64,
   "id": "e52064c2-7f58-4641-b649-1e7a9ff2c8d8",
   "metadata": {},
   "outputs": [
    {
     "data": {
      "text/html": [
       "<table class=\"dataframe\">\n",
       "<caption>A data.frame: 2 × 1</caption>\n",
       "<thead>\n",
       "\t<tr><th scope=col>nombre</th></tr>\n",
       "\t<tr><th scope=col>&lt;chr&gt;</th></tr>\n",
       "</thead>\n",
       "<tbody>\n",
       "\t<tr><td>Ana </td></tr>\n",
       "\t<tr><td>Juan</td></tr>\n",
       "</tbody>\n",
       "</table>\n"
      ],
      "text/latex": [
       "A data.frame: 2 × 1\n",
       "\\begin{tabular}{l}\n",
       " nombre\\\\\n",
       " <chr>\\\\\n",
       "\\hline\n",
       "\t Ana \\\\\n",
       "\t Juan\\\\\n",
       "\\end{tabular}\n"
      ],
      "text/markdown": [
       "\n",
       "A data.frame: 2 × 1\n",
       "\n",
       "| nombre &lt;chr&gt; |\n",
       "|---|\n",
       "| Ana  |\n",
       "| Juan |\n",
       "\n"
      ],
      "text/plain": [
       "  nombre\n",
       "1 Ana   \n",
       "2 Juan  "
      ]
     },
     "metadata": {},
     "output_type": "display_data"
    }
   ],
   "source": [
    "select(datos, nombre)"
   ]
  },
  {
   "cell_type": "markdown",
   "id": "ca201360-49b2-4b98-95ea-f11d43993842",
   "metadata": {},
   "source": [
    "+ #### Ordenación"
   ]
  },
  {
   "cell_type": "code",
   "execution_count": 65,
   "id": "cbfac5a9-17d9-49d3-9ffa-7a21f9cb26af",
   "metadata": {},
   "outputs": [
    {
     "data": {
      "text/html": [
       "<table class=\"dataframe\">\n",
       "<caption>A data.frame: 2 × 4</caption>\n",
       "<thead>\n",
       "\t<tr><th scope=col>X</th><th scope=col>nombre</th><th scope=col>edad</th><th scope=col>altura</th></tr>\n",
       "\t<tr><th scope=col>&lt;int&gt;</th><th scope=col>&lt;chr&gt;</th><th scope=col>&lt;int&gt;</th><th scope=col>&lt;int&gt;</th></tr>\n",
       "</thead>\n",
       "<tbody>\n",
       "\t<tr><td>1</td><td>Ana </td><td>25</td><td>160</td></tr>\n",
       "\t<tr><td>2</td><td>Juan</td><td>30</td><td>170</td></tr>\n",
       "</tbody>\n",
       "</table>\n"
      ],
      "text/latex": [
       "A data.frame: 2 × 4\n",
       "\\begin{tabular}{llll}\n",
       " X & nombre & edad & altura\\\\\n",
       " <int> & <chr> & <int> & <int>\\\\\n",
       "\\hline\n",
       "\t 1 & Ana  & 25 & 160\\\\\n",
       "\t 2 & Juan & 30 & 170\\\\\n",
       "\\end{tabular}\n"
      ],
      "text/markdown": [
       "\n",
       "A data.frame: 2 × 4\n",
       "\n",
       "| X &lt;int&gt; | nombre &lt;chr&gt; | edad &lt;int&gt; | altura &lt;int&gt; |\n",
       "|---|---|---|---|\n",
       "| 1 | Ana  | 25 | 160 |\n",
       "| 2 | Juan | 30 | 170 |\n",
       "\n"
      ],
      "text/plain": [
       "  X nombre edad altura\n",
       "1 1 Ana    25   160   \n",
       "2 2 Juan   30   170   "
      ]
     },
     "metadata": {},
     "output_type": "display_data"
    }
   ],
   "source": [
    "arrange(datos, edad)"
   ]
  },
  {
   "cell_type": "markdown",
   "id": "4841eb30-92ba-4486-8c9f-c9ad4dbeaea6",
   "metadata": {},
   "source": [
    "+ #### Creación de nuevas variables"
   ]
  },
  {
   "cell_type": "code",
   "execution_count": 66,
   "id": "42d1976f-24bc-4c38-9b67-a2004d237f65",
   "metadata": {},
   "outputs": [
    {
     "data": {
      "text/html": [
       "<table class=\"dataframe\">\n",
       "<caption>A data.frame: 2 × 5</caption>\n",
       "<thead>\n",
       "\t<tr><th scope=col>X</th><th scope=col>nombre</th><th scope=col>edad</th><th scope=col>altura</th><th scope=col>edad_meses</th></tr>\n",
       "\t<tr><th scope=col>&lt;int&gt;</th><th scope=col>&lt;chr&gt;</th><th scope=col>&lt;int&gt;</th><th scope=col>&lt;int&gt;</th><th scope=col>&lt;dbl&gt;</th></tr>\n",
       "</thead>\n",
       "<tbody>\n",
       "\t<tr><td>1</td><td>Ana </td><td>25</td><td>160</td><td>300</td></tr>\n",
       "\t<tr><td>2</td><td>Juan</td><td>30</td><td>170</td><td>360</td></tr>\n",
       "</tbody>\n",
       "</table>\n"
      ],
      "text/latex": [
       "A data.frame: 2 × 5\n",
       "\\begin{tabular}{lllll}\n",
       " X & nombre & edad & altura & edad\\_meses\\\\\n",
       " <int> & <chr> & <int> & <int> & <dbl>\\\\\n",
       "\\hline\n",
       "\t 1 & Ana  & 25 & 160 & 300\\\\\n",
       "\t 2 & Juan & 30 & 170 & 360\\\\\n",
       "\\end{tabular}\n"
      ],
      "text/markdown": [
       "\n",
       "A data.frame: 2 × 5\n",
       "\n",
       "| X &lt;int&gt; | nombre &lt;chr&gt; | edad &lt;int&gt; | altura &lt;int&gt; | edad_meses &lt;dbl&gt; |\n",
       "|---|---|---|---|---|\n",
       "| 1 | Ana  | 25 | 160 | 300 |\n",
       "| 2 | Juan | 30 | 170 | 360 |\n",
       "\n"
      ],
      "text/plain": [
       "  X nombre edad altura edad_meses\n",
       "1 1 Ana    25   160    300       \n",
       "2 2 Juan   30   170    360       "
      ]
     },
     "metadata": {},
     "output_type": "display_data"
    }
   ],
   "source": [
    "mutate(datos, edad_meses = edad * 12)"
   ]
  },
  {
   "cell_type": "markdown",
   "id": "f44cc6c6-a080-45d1-9b54-6caf465d028a",
   "metadata": {},
   "source": [
    "+ #### Agrupación y resumen"
   ]
  },
  {
   "cell_type": "code",
   "execution_count": 67,
   "id": "a1234150-7671-469b-be63-ff39200dc571",
   "metadata": {},
   "outputs": [
    {
     "data": {
      "text/html": [
       "<table class=\"dataframe\">\n",
       "<caption>A tibble: 2 × 2</caption>\n",
       "<thead>\n",
       "\t<tr><th scope=col>nombre</th><th scope=col>media_edad</th></tr>\n",
       "\t<tr><th scope=col>&lt;chr&gt;</th><th scope=col>&lt;dbl&gt;</th></tr>\n",
       "</thead>\n",
       "<tbody>\n",
       "\t<tr><td>Ana </td><td>25</td></tr>\n",
       "\t<tr><td>Juan</td><td>30</td></tr>\n",
       "</tbody>\n",
       "</table>\n"
      ],
      "text/latex": [
       "A tibble: 2 × 2\n",
       "\\begin{tabular}{ll}\n",
       " nombre & media\\_edad\\\\\n",
       " <chr> & <dbl>\\\\\n",
       "\\hline\n",
       "\t Ana  & 25\\\\\n",
       "\t Juan & 30\\\\\n",
       "\\end{tabular}\n"
      ],
      "text/markdown": [
       "\n",
       "A tibble: 2 × 2\n",
       "\n",
       "| nombre &lt;chr&gt; | media_edad &lt;dbl&gt; |\n",
       "|---|---|\n",
       "| Ana  | 25 |\n",
       "| Juan | 30 |\n",
       "\n"
      ],
      "text/plain": [
       "  nombre media_edad\n",
       "1 Ana    25        \n",
       "2 Juan   30        "
      ]
     },
     "metadata": {},
     "output_type": "display_data"
    }
   ],
   "source": [
    "datos %>% group_by(nombre) %>% summarise(media_edad = mean(edad))"
   ]
  },
  {
   "cell_type": "markdown",
   "id": "86370d4d-0c75-4cde-ae7a-edfde0a694d8",
   "metadata": {},
   "source": [
    "### tidyr"
   ]
  },
  {
   "cell_type": "markdown",
   "id": "0830f1a5-38f2-46f9-9967-bd49328436c4",
   "metadata": {},
   "source": [
    "+ #### Transformación"
   ]
  },
  {
   "cell_type": "code",
   "execution_count": 68,
   "id": "40a39131-aae2-4722-ab04-3bab9b36cdb8",
   "metadata": {},
   "outputs": [
    {
     "data": {
      "text/html": [
       "<table class=\"dataframe\">\n",
       "<caption>A tibble: 4 × 4</caption>\n",
       "<thead>\n",
       "\t<tr><th scope=col>X</th><th scope=col>nombre</th><th scope=col>variable</th><th scope=col>valor</th></tr>\n",
       "\t<tr><th scope=col>&lt;int&gt;</th><th scope=col>&lt;chr&gt;</th><th scope=col>&lt;chr&gt;</th><th scope=col>&lt;int&gt;</th></tr>\n",
       "</thead>\n",
       "<tbody>\n",
       "\t<tr><td>1</td><td>Ana </td><td>edad  </td><td> 25</td></tr>\n",
       "\t<tr><td>1</td><td>Ana </td><td>altura</td><td>160</td></tr>\n",
       "\t<tr><td>2</td><td>Juan</td><td>edad  </td><td> 30</td></tr>\n",
       "\t<tr><td>2</td><td>Juan</td><td>altura</td><td>170</td></tr>\n",
       "</tbody>\n",
       "</table>\n"
      ],
      "text/latex": [
       "A tibble: 4 × 4\n",
       "\\begin{tabular}{llll}\n",
       " X & nombre & variable & valor\\\\\n",
       " <int> & <chr> & <chr> & <int>\\\\\n",
       "\\hline\n",
       "\t 1 & Ana  & edad   &  25\\\\\n",
       "\t 1 & Ana  & altura & 160\\\\\n",
       "\t 2 & Juan & edad   &  30\\\\\n",
       "\t 2 & Juan & altura & 170\\\\\n",
       "\\end{tabular}\n"
      ],
      "text/markdown": [
       "\n",
       "A tibble: 4 × 4\n",
       "\n",
       "| X &lt;int&gt; | nombre &lt;chr&gt; | variable &lt;chr&gt; | valor &lt;int&gt; |\n",
       "|---|---|---|---|\n",
       "| 1 | Ana  | edad   |  25 |\n",
       "| 1 | Ana  | altura | 160 |\n",
       "| 2 | Juan | edad   |  30 |\n",
       "| 2 | Juan | altura | 170 |\n",
       "\n"
      ],
      "text/plain": [
       "  X nombre variable valor\n",
       "1 1 Ana    edad      25  \n",
       "2 1 Ana    altura   160  \n",
       "3 2 Juan   edad      30  \n",
       "4 2 Juan   altura   170  "
      ]
     },
     "metadata": {},
     "output_type": "display_data"
    }
   ],
   "source": [
    "pivot_longer(datos, cols = c(edad, altura), names_to = \"variable\", values_to = \"valor\")"
   ]
  },
  {
   "cell_type": "markdown",
   "id": "1c55e9d1-8229-43d4-96bb-460b3a6a965f",
   "metadata": {},
   "source": [
    "+ #### Manejo de valores faltantes"
   ]
  },
  {
   "cell_type": "code",
   "execution_count": 69,
   "id": "2fff0222-2d76-4097-aeff-37822b7205a7",
   "metadata": {},
   "outputs": [
    {
     "data": {
      "text/html": [
       "<table class=\"dataframe\">\n",
       "<caption>A data.frame: 2 × 4</caption>\n",
       "<thead>\n",
       "\t<tr><th scope=col>X</th><th scope=col>nombre</th><th scope=col>edad</th><th scope=col>altura</th></tr>\n",
       "\t<tr><th scope=col>&lt;int&gt;</th><th scope=col>&lt;chr&gt;</th><th scope=col>&lt;int&gt;</th><th scope=col>&lt;int&gt;</th></tr>\n",
       "</thead>\n",
       "<tbody>\n",
       "\t<tr><td>1</td><td>Ana </td><td>25</td><td>160</td></tr>\n",
       "\t<tr><td>2</td><td>Juan</td><td>30</td><td>170</td></tr>\n",
       "</tbody>\n",
       "</table>\n"
      ],
      "text/latex": [
       "A data.frame: 2 × 4\n",
       "\\begin{tabular}{llll}\n",
       " X & nombre & edad & altura\\\\\n",
       " <int> & <chr> & <int> & <int>\\\\\n",
       "\\hline\n",
       "\t 1 & Ana  & 25 & 160\\\\\n",
       "\t 2 & Juan & 30 & 170\\\\\n",
       "\\end{tabular}\n"
      ],
      "text/markdown": [
       "\n",
       "A data.frame: 2 × 4\n",
       "\n",
       "| X &lt;int&gt; | nombre &lt;chr&gt; | edad &lt;int&gt; | altura &lt;int&gt; |\n",
       "|---|---|---|---|\n",
       "| 1 | Ana  | 25 | 160 |\n",
       "| 2 | Juan | 30 | 170 |\n",
       "\n"
      ],
      "text/plain": [
       "  X nombre edad altura\n",
       "1 1 Ana    25   160   \n",
       "2 2 Juan   30   170   "
      ]
     },
     "metadata": {},
     "output_type": "display_data"
    }
   ],
   "source": [
    "drop_na(datos)"
   ]
  },
  {
   "cell_type": "markdown",
   "id": "df5802d4-0f9e-4b59-b6f7-26d360a2f368",
   "metadata": {},
   "source": [
    "## Visualización de datos"
   ]
  },
  {
   "cell_type": "markdown",
   "id": "d22aa7cd-d6d4-4dc0-a1d8-227e546139a4",
   "metadata": {},
   "source": [
    "### ggplot2"
   ]
  },
  {
   "cell_type": "markdown",
   "id": "061e4da9-f369-4309-9753-2dbd2b6ed000",
   "metadata": {},
   "source": [
    "+ #### Gráficos de dispersión"
   ]
  },
  {
   "cell_type": "code",
   "execution_count": 70,
   "id": "fdc5e565-829b-4ad6-a2ff-37c4df60d357",
   "metadata": {},
   "outputs": [
    {
     "data": {
      "image/png": "[encoded data removed]",
      "text/plain": [
       "plot without title"
      ]
     },
     "metadata": {
      "image/png": {
       "height": 420,
       "width": 420
      }
     },
     "output_type": "display_data"
    }
   ],
   "source": [
    "ggplot(datos, aes(x = edad, y = altura)) + geom_point()"
   ]
  },
  {
   "cell_type": "markdown",
   "id": "4dd75a38-71f9-4a6e-b4a1-90ef05823820",
   "metadata": {},
   "source": [
    "+ #### Gráficos de barras"
   ]
  },
  {
   "cell_type": "code",
   "execution_count": 71,
   "id": "6cd9057b-825b-415d-9ce3-bf42be28d54d",
   "metadata": {},
   "outputs": [
    {
     "data": {
      "image/png": "[encoded data removed]",
      "text/plain": [
       "plot without title"
      ]
     },
     "metadata": {
      "image/png": {
       "height": 420,
       "width": 420
      }
     },
     "output_type": "display_data"
    }
   ],
   "source": [
    "ggplot(datos, aes(x = nombre, y = edad)) + geom_bar(stat = \"identity\")"
   ]
  },
  {
   "cell_type": "markdown",
   "id": "8ea3285e-fdea-477c-bf16-c9a377398eed",
   "metadata": {},
   "source": [
    "+ #### Personalización"
   ]
  },
  {
   "cell_type": "code",
   "execution_count": 72,
   "id": "a9bf75b9-6997-444f-86e3-6a4688309983",
   "metadata": {},
   "outputs": [
    {
     "data": {
      "image/png": "[encoded data removed]",
      "text/plain": [
       "plot without title"
      ]
     },
     "metadata": {
      "image/png": {
       "height": 420,
       "width": 420
      }
     },
     "output_type": "display_data"
    }
   ],
   "source": [
    "ggplot(datos, aes(x = edad, y = altura)) + geom_point() + ggtitle(\"Edad vs Altura\")"
   ]
  },
  {
   "cell_type": "markdown",
   "id": "cd619256-dc64-4387-9f1a-0c380d3ef61e",
   "metadata": {},
   "source": [
    "### Programación en R"
   ]
  },
  {
   "cell_type": "markdown",
   "id": "c4ef54cc-a336-4f0c-8ef5-4f2cf856b4e5",
   "metadata": {},
   "source": [
    "### Funciones"
   ]
  },
  {
   "cell_type": "markdown",
   "id": "6e763d14-7f0d-4494-a5a5-3967ba901b9d",
   "metadata": {},
   "source": [
    "+ #### Definición"
   ]
  },
  {
   "cell_type": "code",
   "execution_count": 73,
   "id": "3330dd23-97f5-4c0b-b8ba-be8f4820ef98",
   "metadata": {},
   "outputs": [],
   "source": [
    "suma <- function(a, b) {\n",
    "  return(a + b)\n",
    "}"
   ]
  },
  {
   "cell_type": "markdown",
   "id": "c4681327-7b00-44bb-83f2-49077f6a0527",
   "metadata": {},
   "source": [
    "+ #### Uso"
   ]
  },
  {
   "cell_type": "code",
   "execution_count": 74,
   "id": "2eec3df9-bd5c-4ef9-8de4-3c38a019f76e",
   "metadata": {},
   "outputs": [
    {
     "data": {
      "text/html": [
       "8"
      ],
      "text/latex": [
       "8"
      ],
      "text/markdown": [
       "8"
      ],
      "text/plain": [
       "[1] 8"
      ]
     },
     "metadata": {},
     "output_type": "display_data"
    }
   ],
   "source": [
    "suma(5, 3)"
   ]
  },
  {
   "cell_type": "markdown",
   "id": "9d8cb839-3602-4e66-a395-4bdba6a0cf32",
   "metadata": {},
   "source": [
    "### Bucles"
   ]
  },
  {
   "cell_type": "markdown",
   "id": "7139dce2-3a7a-440c-a22d-6c42e33c5168",
   "metadata": {},
   "source": [
    "+ #### For"
   ]
  },
  {
   "cell_type": "code",
   "execution_count": 75,
   "id": "4319d7c9-ce55-4553-b6f1-9bf01a344942",
   "metadata": {},
   "outputs": [
    {
     "name": "stdout",
     "output_type": "stream",
     "text": [
      "[1] 1\n",
      "[1] 2\n",
      "[1] 3\n",
      "[1] 4\n",
      "[1] 5\n"
     ]
    }
   ],
   "source": [
    "for (i in 1:5) {\n",
    "  print(i)\n",
    "}"
   ]
  },
  {
   "cell_type": "markdown",
   "id": "6c22e9be-711b-4d36-85f5-ef7e6a33c283",
   "metadata": {},
   "source": [
    "+ #### While"
   ]
  },
  {
   "cell_type": "code",
   "execution_count": 76,
   "id": "9b8b93c0-1e29-41ca-9265-32821c9090fc",
   "metadata": {},
   "outputs": [
    {
     "name": "stdout",
     "output_type": "stream",
     "text": [
      "[1] 1\n",
      "[1] 2\n",
      "[1] 3\n",
      "[1] 4\n",
      "[1] 5\n"
     ]
    }
   ],
   "source": [
    "i <- 1\n",
    "while (i <= 5) {\n",
    "  print(i)\n",
    "  i <- i + 1\n",
    "}"
   ]
  },
  {
   "cell_type": "markdown",
   "id": "2c124f1d-92c7-4da8-a97b-6c9bcb1a7905",
   "metadata": {},
   "source": [
    "### Condicionales"
   ]
  },
  {
   "cell_type": "markdown",
   "id": "da67f0b7-e593-4deb-91c9-4e6bda993be9",
   "metadata": {},
   "source": [
    "+ #### If"
   ]
  },
  {
   "cell_type": "code",
   "execution_count": 78,
   "id": "bb2d50b8-35fb-45f2-a306-806deabd4a65",
   "metadata": {},
   "outputs": [],
   "source": [
    "if (x > 10) {\n",
    "  print(\"x es mayor que 10\")\n",
    "}"
   ]
  },
  {
   "cell_type": "markdown",
   "id": "012f2a46-0af5-4a65-8b49-5768746e0644",
   "metadata": {},
   "source": [
    "## Estadística básica en R"
   ]
  },
  {
   "cell_type": "markdown",
   "id": "7b50f3d6-7add-426b-99ee-170a2853f098",
   "metadata": {},
   "source": [
    "### Estadística descriptiva"
   ]
  },
  {
   "cell_type": "markdown",
   "id": "20efcfb9-2178-4939-a417-f9ff0939f0ff",
   "metadata": {},
   "source": [
    "+ #### Medidas"
   ]
  },
  {
   "cell_type": "code",
   "execution_count": 79,
   "id": "44217d9a-fe24-40ed-8af0-062f37e552e9",
   "metadata": {},
   "outputs": [
    {
     "data": {
      "text/html": [
       "27.5"
      ],
      "text/latex": [
       "27.5"
      ],
      "text/markdown": [
       "27.5"
      ],
      "text/plain": [
       "[1] 27.5"
      ]
     },
     "metadata": {},
     "output_type": "display_data"
    },
    {
     "data": {
      "text/html": [
       "3.53553390593274"
      ],
      "text/latex": [
       "3.53553390593274"
      ],
      "text/markdown": [
       "3.53553390593274"
      ],
      "text/plain": [
       "[1] 3.535534"
      ]
     },
     "metadata": {},
     "output_type": "display_data"
    }
   ],
   "source": [
    "mean(datos$edad)\n",
    "sd(datos$edad)"
   ]
  },
  {
   "cell_type": "markdown",
   "id": "6a67da45-a154-4797-ab42-5974779c0747",
   "metadata": {},
   "source": [
    "### Pruebas de hipótesis"
   ]
  },
  {
   "cell_type": "markdown",
   "id": "85cb1643-04cf-4c69-aee6-a60b692a9027",
   "metadata": {},
   "source": [
    "+ #### Prueba t"
   ]
  },
  {
   "cell_type": "code",
   "execution_count": 80,
   "id": "8fba9152-1fb4-4748-82bb-849242c445d6",
   "metadata": {},
   "outputs": [
    {
     "data": {
      "text/plain": [
       "\n",
       "\tOne Sample t-test\n",
       "\n",
       "data:  datos$edad\n",
       "t = -1, df = 1, p-value = 0.5\n",
       "alternative hypothesis: true mean is not equal to 30\n",
       "95 percent confidence interval:\n",
       " -4.265512 59.265512\n",
       "sample estimates:\n",
       "mean of x \n",
       "     27.5 \n"
      ]
     },
     "metadata": {},
     "output_type": "display_data"
    }
   ],
   "source": [
    "t.test(datos$edad, mu = 30)"
   ]
  },
  {
   "cell_type": "markdown",
   "id": "6bb776c6-f0cf-4357-899a-63d9f14b4935",
   "metadata": {},
   "source": [
    "### Regresión lineal"
   ]
  },
  {
   "cell_type": "markdown",
   "id": "a7e23e66-604b-46e6-946d-eb5b3bfff20b",
   "metadata": {},
   "source": [
    "+ #### Modelo"
   ]
  },
  {
   "cell_type": "code",
   "execution_count": 81,
   "id": "0142d828-e60b-43b5-9cda-ec1ee2bbb1ab",
   "metadata": {},
   "outputs": [
    {
     "data": {
      "text/plain": [
       "\n",
       "Call:\n",
       "lm(formula = altura ~ edad, data = datos)\n",
       "\n",
       "Residuals:\n",
       "ALL 2 residuals are 0: no residual degrees of freedom!\n",
       "\n",
       "Coefficients:\n",
       "            Estimate Std. Error t value Pr(>|t|)\n",
       "(Intercept)      110        NaN     NaN      NaN\n",
       "edad               2        NaN     NaN      NaN\n",
       "\n",
       "Residual standard error: NaN on 0 degrees of freedom\n",
       "Multiple R-squared:      1,\tAdjusted R-squared:    NaN \n",
       "F-statistic:   NaN on 1 and 0 DF,  p-value: NA\n"
      ]
     },
     "metadata": {},
     "output_type": "display_data"
    }
   ],
   "source": [
    "modelo <- lm(altura ~ edad, data = datos)\n",
    "summary(modelo)"
   ]
  },
  {
   "cell_type": "markdown",
   "id": "4ffcf487-1b97-4023-b467-bcdb7a25d617",
   "metadata": {},
   "source": [
    "## R Markdown"
   ]
  },
  {
   "cell_type": "markdown",
   "id": "04b07e7f-f87a-4c7e-bc1d-440508202ab4",
   "metadata": {},
   "source": [
    "### Creación de informe"
   ]
  },
  {
   "cell_type": "markdown",
   "id": "b6367bff-5e64-48d2-99cc-ed581d5acd34",
   "metadata": {},
   "source": [
    "+ #### Código y texto"
   ]
  },
  {
   "cell_type": "code",
   "execution_count": 84,
   "id": "d3a4a2aa-bfa1-4809-9b09-727b8ff59435",
   "metadata": {},
   "outputs": [
    {
     "data": {
      "text/plain": [
       "       X           nombre               edad           altura     \n",
       " Min.   :1.00   Length:2           Min.   :25.00   Min.   :160.0  \n",
       " 1st Qu.:1.25   Class :character   1st Qu.:26.25   1st Qu.:162.5  \n",
       " Median :1.50   Mode  :character   Median :27.50   Median :165.0  \n",
       " Mean   :1.50                      Mean   :27.50   Mean   :165.0  \n",
       " 3rd Qu.:1.75                      3rd Qu.:28.75   3rd Qu.:167.5  \n",
       " Max.   :2.00                      Max.   :30.00   Max.   :170.0  "
      ]
     },
     "metadata": {},
     "output_type": "display_data"
    }
   ],
   "source": [
    "\n",
    "summary(datos)"
   ]
  },
  {
   "cell_type": "markdown",
   "id": "e32c6681-575e-44d3-9261-6511bea9ffdb",
   "metadata": {},
   "source": [
    "### Generación de documentos"
   ]
  },
  {
   "cell_type": "code",
   "execution_count": 85,
   "id": "7bc5db74-de14-434b-ac6e-d251d27a621f",
   "metadata": {},
   "outputs": [
    {
     "ename": "ERROR",
     "evalue": "Error in parse(text = input): <text>:1:72: unexpected symbol\n1: HTML: rmarkdown::render(\"informe.Rmd\", output_format = \"html_document\").\n                                                                           ^\n",
     "output_type": "error",
     "traceback": [
      "Error in parse(text = input): <text>:1:72: unexpected symbol\n1: HTML: rmarkdown::render(\"informe.Rmd\", output_format = \"html_document\").\n                                                                           ^\nTraceback:\n"
     ]
    }
   ],
   "source": [
    "HTML: rmarkdown::render(\"informe.Rmd\", output_format = \"html_document\").\n",
    "\n",
    "PDF: rmarkdown::render(\"informe.Rmd\", output_format = \"pdf_document\")."
   ]
  },
  {
   "cell_type": "markdown",
   "id": "4b01701a-3e24-40c5-b791-124c052996a3",
   "metadata": {},
   "source": [
    "## Paquetes de R"
   ]
  },
  {
   "cell_type": "markdown",
   "id": "cd77f17d-3d4e-44ee-b541-08a6790b695d",
   "metadata": {},
   "source": [
    "### Instalación y carga"
   ]
  },
  {
   "cell_type": "markdown",
   "id": "8aa51815-f909-4f07-af7c-61873be1f24f",
   "metadata": {},
   "source": [
    "+ #### Instalación"
   ]
  },
  {
   "cell_type": "code",
   "execution_count": 51,
   "id": "5d66b7b3-c299-48ce-9a0f-38f59b8da345",
   "metadata": {},
   "outputs": [
    {
     "name": "stderr",
     "output_type": "stream",
     "text": [
      "Warning message:\n",
      "\"package 'dplyr' is in use and will not be installed\"\n",
      "Warning message:\n",
      "\"package 'tidyr' is in use and will not be installed\"\n",
      "Installing package into 'C:/Users/angel/AppData/Local/R/win-library/4.4'\n",
      "(as 'lib' is unspecified)\n",
      "\n",
      "also installing the dependencies 'colorspace', 'farver', 'labeling', 'munsell', 'RColorBrewer', 'viridisLite', 'gtable', 'isoband', 'scales'\n",
      "\n",
      "\n"
     ]
    },
    {
     "name": "stdout",
     "output_type": "stream",
     "text": [
      "package 'colorspace' successfully unpacked and MD5 sums checked\n",
      "package 'farver' successfully unpacked and MD5 sums checked\n",
      "package 'labeling' successfully unpacked and MD5 sums checked\n",
      "package 'munsell' successfully unpacked and MD5 sums checked\n",
      "package 'RColorBrewer' successfully unpacked and MD5 sums checked\n",
      "package 'viridisLite' successfully unpacked and MD5 sums checked\n",
      "package 'gtable' successfully unpacked and MD5 sums checked\n",
      "package 'isoband' successfully unpacked and MD5 sums checked\n",
      "package 'scales' successfully unpacked and MD5 sums checked\n",
      "package 'ggplot2' successfully unpacked and MD5 sums checked\n",
      "\n",
      "The downloaded binary packages are in\n",
      "\tC:\\Users\\angel\\AppData\\Local\\Temp\\RtmpQ1LefO\\downloaded_packages\n"
     ]
    }
   ],
   "source": [
    "install.packages(\"dplyr\")\n",
    "install.packages(\"tidyr\")\n",
    "\n",
    "install.packages(\"ggplot2\")"
   ]
  },
  {
   "cell_type": "markdown",
   "id": "b62f6996-4306-4356-9093-304f4bc35756",
   "metadata": {},
   "source": [
    "+ #### Carga"
   ]
  },
  {
   "cell_type": "code",
   "execution_count": 54,
   "id": "e19f0757-247f-46b2-8405-2010be26e52d",
   "metadata": {},
   "outputs": [],
   "source": [
    "library(dplyr)\n",
    "library(tidyr)\n",
    "library(ggplot2)"
   ]
  },
  {
   "cell_type": "markdown",
   "id": "27a6b28c-be3e-4af3-87b7-107101dd1c7a",
   "metadata": {},
   "source": [
    "### Paquetes útiles"
   ]
  },
  {
   "cell_type": "markdown",
   "id": "31fa828d-9384-42d3-b5a6-b788eecf72d4",
   "metadata": {},
   "source": [
    "+ **Estadística:** ggplot2, dplyr.\n",
    "\n",
    "+ **Visualización:** ggplot2, plotly."
   ]
  },
  {
   "cell_type": "markdown",
   "id": "74f133e1-59fd-4a5d-9b26-b804a85a0bfe",
   "metadata": {
    "jp-MarkdownHeadingCollapsed": true
   },
   "source": [
    "# Ejercicios"
   ]
  },
  {
   "cell_type": "markdown",
   "id": "907262cf-a525-4a84-abea-abb92f680d6e",
   "metadata": {},
   "source": [
    "1. #### Crea un gráfico de dispersión que muestre la relación entre la edad y la altura de un grupo de personas."
   ]
  },
  {
   "cell_type": "code",
   "execution_count": 86,
   "id": "8c0f4afe-e34d-49b9-b066-d9e3ef8a6ab1",
   "metadata": {},
   "outputs": [
    {
     "data": {
      "image/png": "[encoded data removed]",
      "text/plain": [
       "plot without title"
      ]
     },
     "metadata": {
      "image/png": {
       "height": 420,
       "width": 420
      }
     },
     "output_type": "display_data"
    }
   ],
   "source": [
    "# cargamos la libreria \n",
    "library(ggplot2)\n",
    "\n",
    "# se crean los datos\n",
    "datos <- data.frame(\n",
    "  edad = c(25, 30, 35, 40, 45),\n",
    "  altura = c(160, 170, 175, 180, 165)\n",
    ")\n",
    "\n",
    "# se crea la grafica \n",
    "ggplot(datos, aes(x = edad, y = altura)) +\n",
    "  geom_point(color = \"blue\", size = 3) + \n",
    "  ggtitle(\"Relación entre Edad y Altura\") + \n",
    "  xlab(\"Edad (años)\") + \n",
    "  ylab(\"Altura (cm)\")  "
   ]
  },
  {
   "cell_type": "markdown",
   "id": "bceb4c0e-8795-4027-af73-77e536504e29",
   "metadata": {},
   "source": [
    "2. #### Realiza un análisis de regresión lineal para predecir la altura en función de la edad y visualiza los resultados."
   ]
  },
  {
   "cell_type": "code",
   "execution_count": 88,
   "id": "fd3b03eb-c80f-4d50-9bd4-d9f46117f770",
   "metadata": {},
   "outputs": [
    {
     "data": {
      "text/plain": [
       "\n",
       "Call:\n",
       "lm(formula = altura ~ edad, data = datos)\n",
       "\n",
       "Residuals:\n",
       " 1  2  3  4  5 \n",
       "-6  2  5  8 -9 \n",
       "\n",
       "Coefficients:\n",
       "            Estimate Std. Error t value Pr(>|t|)   \n",
       "(Intercept) 156.0000    18.8944   8.256  0.00372 **\n",
       "edad          0.4000     0.5292   0.756  0.50463   \n",
       "---\n",
       "Signif. codes:  0 '***' 0.001 '**' 0.01 '*' 0.05 '.' 0.1 ' ' 1\n",
       "\n",
       "Residual standard error: 8.367 on 3 degrees of freedom\n",
       "Multiple R-squared:   0.16,\tAdjusted R-squared:  -0.12 \n",
       "F-statistic: 0.5714 on 1 and 3 DF,  p-value: 0.5046\n"
      ]
     },
     "metadata": {},
     "output_type": "display_data"
    },
    {
     "name": "stderr",
     "output_type": "stream",
     "text": [
      "\u001b[1m\u001b[22m`geom_smooth()` using formula = 'y ~ x'\n"
     ]
    },
    {
     "data": {
      "image/png": "[encoded data removed]",
      "text/plain": [
       "plot without title"
      ]
     },
     "metadata": {
      "image/png": {
       "height": 420,
       "width": 420
      }
     },
     "output_type": "display_data"
    }
   ],
   "source": [
    "library(ggplot2)\n",
    "\n",
    "# data frame\n",
    "datos <- data.frame(\n",
    "  edad = c(25, 30, 35, 40, 45),\n",
    "  altura = c(160, 170, 175, 180, 165)\n",
    ")\n",
    "\n",
    "# modelo de regresión lineal\n",
    "modelo <- lm(altura ~ edad, data = datos)\n",
    "\n",
    "#  resumen del modelo\n",
    "summary(modelo)\n",
    "\n",
    "# gráfico de dispersión con la línea de regresión\n",
    "ggplot(datos, aes(x = edad, y = altura)) +\n",
    "  geom_point(color = \"blue\", size = 3) +  \n",
    "  geom_smooth(method = \"lm\", color = \"red\", se = FALSE) +  \n",
    "  ggtitle(\"Regresión Lineal: Altura vs Edad\") +  \n",
    "  xlab(\"Edad (años)\") +  \n",
    "  ylab(\"Altura (cm)\")  "
   ]
  }
 ],
 "metadata": {
  "kernelspec": {
   "display_name": "R",
   "language": "R",
   "name": "ir"
  },
  "language_info": {
   "codemirror_mode": "r",
   "file_extension": ".r",
   "mimetype": "text/x-r-source",
   "name": "R",
   "pygments_lexer": "r",
   "version": "4.4.2"
  }
 },
 "nbformat": 4,
 "nbformat_minor": 5
}
